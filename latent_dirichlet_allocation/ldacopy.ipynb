{
 "cells": [
  {
   "cell_type": "markdown",
   "metadata": {},
   "source": [
    "## Step 0: Latent Dirichlet Allocation ##\n",
    "\n",
    "LDA is used to classify text in a document to a particular topic. It builds a topic per document model and words per topic model, modeled as Dirichlet distributions. \n",
    "\n",
    "* Each document is modeled as a multinomial distribution of topics and each topic is modeled as a multinomial distribution of words.\n",
    "* LDA assumes that the every chunk of text we feed into it will contain words that are somehow related. Therefore choosing the right corpus of data is crucial. \n",
    "* It also assumes documents are produced from a mixture of topics. Those topics then generate words based on their probability distribution. \n",
    "\n",
    "* LDA tackles ambiguity by comparing a document to two topics and determining which topic is closer to the document, across all combinations of topics which seem broadly relevant.  In doing so, LDA helps an information retrieval system (such as a search engine) to determine which documents are most relevant to which topics."
   ]
  },
  {
   "cell_type": "markdown",
   "metadata": {},
   "source": [
    "### LDA on a real world dataset ###\n",
    "\n",
    "We will be using the 20 Newsgroup dataset wich is a collection of emails exchanged in 20 newsgroups. You can read more about the dataset [here](http://qwone.com/~jason/20Newsgroups/)."
   ]
  },
  {
   "cell_type": "markdown",
   "metadata": {},
   "source": [
    "## Step 1: Load the dataset ##\n",
    "\n",
    "The 20 newsgroups dataset comprises around 18000 newsgroups posts on 20 topics. Some of these topics are similar, so we will try to classify them into 10 topics.\n",
    "\n",
    "Remove all email headers, footers and quotes from the replied emails."
   ]
  },
  {
   "cell_type": "code",
   "execution_count": 1,
   "metadata": {
    "collapsed": true
   },
   "outputs": [],
   "source": [
    "'''\n",
    "Dataset from http://scikit-learn.org/stable/datasets/twenty_newsgroups.html\n",
    "'''\n",
    "from sklearn.datasets import fetch_20newsgroups\n",
    "documents = fetch_20newsgroups(remove=('headers', 'footers', 'quotes'), random_state=101).data"
   ]
  },
  {
   "cell_type": "code",
   "execution_count": 2,
   "metadata": {},
   "outputs": [
    {
     "name": "stdout",
     "output_type": "stream",
     "text": [
      "11314\n"
     ]
    }
   ],
   "source": [
    "'''\n",
    "Get the total number of documents\n",
    "'''\n",
    "print(len(documents))"
   ]
  },
  {
   "cell_type": "code",
   "execution_count": 5,
   "metadata": {},
   "outputs": [
    {
     "name": "stdout",
     "output_type": "stream",
     "text": [
      "\n",
      "**Printing out a sample document:**\n",
      "\n",
      "\n",
      "Fret not, you made it.\n",
      "\n",
      "\n",
      "Not while we still have our guns.  <evil grin>  \n",
      "\n",
      "Hey, gang, it's not about duck hunting, or about dark alleys,\n",
      "it's about black-clad, helmeted and booted troops storming\n",
      "houses and violating civil rights under color of law. \n",
      "\n",
      "Are YOU ready to defend YOUR Constitution?\n"
     ]
    }
   ],
   "source": [
    "# Previewing a document\n",
    "document_num = 4310\n",
    "print(\"\\n**Printing out a sample document:**\")\n",
    "print(documents[document_num])"
   ]
  },
  {
   "cell_type": "markdown",
   "metadata": {},
   "source": [
    "** Looks like this document will come under `Politics`. **"
   ]
  },
  {
   "cell_type": "markdown",
   "metadata": {},
   "source": [
    "## Step 2: Data Preprocessing ##\n",
    "\n",
    "We will perform the following steps:\n",
    "\n",
    "* **Tokenization**: Split the text into sentences and the sentences into words. Lowercase the words and remove punctuation.\n",
    "* Words that have fewer than 3 characters are removed.\n",
    "* All **stopwords** are removed.\n",
    "* Words are **lemmatized** - words in third person are changed to first person and verbs in past and future tenses are changed into present.\n",
    "* Words are **stemmed** - words are reduced to their root form."
   ]
  },
  {
   "cell_type": "code",
   "execution_count": 6,
   "metadata": {
    "collapsed": true
   },
   "outputs": [],
   "source": [
    "'''\n",
    "Loading Gensim library\n",
    "'''\n",
    "# pip install gensim\n",
    "import gensim\n",
    "from gensim.utils import simple_preprocess\n",
    "from gensim.parsing.preprocessing import STOPWORDS\n",
    "from nltk.stem import WordNetLemmatizer, SnowballStemmer\n",
    "from nltk.stem.porter import *\n",
    "import numpy as np\n",
    "np.random.seed(400)"
   ]
  },
  {
   "cell_type": "code",
   "execution_count": null,
   "metadata": {
    "collapsed": true
   },
   "outputs": [],
   "source": [
    "# import nltk\n",
    "# nltk.download()"
   ]
  },
  {
   "cell_type": "code",
   "execution_count": 7,
   "metadata": {},
   "outputs": [
    {
     "name": "stdout",
     "output_type": "stream",
     "text": [
      "go\n",
      "Churches\n"
     ]
    }
   ],
   "source": [
    "'''\n",
    "Lemmatizing example for a verb, noun.\n",
    "'''\n",
    "print(WordNetLemmatizer().lemmatize('went', pos = 'v')) # past tense to present tense\n",
    "print(WordNetLemmatizer().lemmatize('Churches', pos = 'n')) # noun"
   ]
  },
  {
   "cell_type": "code",
   "execution_count": 10,
   "metadata": {},
   "outputs": [
    {
     "name": "stdout",
     "output_type": "stream",
     "text": [
      "caress fli die mule deni die agre own humbl size meet state siez item sensat tradit refer colon plot\n"
     ]
    }
   ],
   "source": [
    "'''\n",
    "Stemming example\n",
    "'''\n",
    "stemmer = SnowballStemmer(\"english\")\n",
    "plurals = ['caresses', 'flies', 'dies', 'mules', 'denied','died', 'agreed', 'owned', \n",
    "           'humbled', 'sized','meeting', 'stating', 'siezing', 'itemization','sensational', \n",
    "           'traditional', 'reference', 'colonizer','plotted']\n",
    "singles = [stemmer.stem(plural) for plural in plurals]\n",
    "print(' '.join(singles))"
   ]
  },
  {
   "cell_type": "code",
   "execution_count": 8,
   "metadata": {
    "collapsed": true
   },
   "outputs": [],
   "source": [
    "'''\n",
    "Data preprocessing\n",
    "'''\n",
    "def lemmatize_stemming(text):\n",
    "    return stemmer.stem(WordNetLemmatizer().lemmatize(text, pos='v'))\n",
    "\n",
    "# Tokenize and lemmatize\n",
    "def preprocess(text):\n",
    "    result = [lemmatize_stemming(token) for token in gensim.utils.simple_preprocess(text) \n",
    "              # Remove stop words and words less than 3 characters long\n",
    "              if token not in gensim.parsing.preprocessing.STOPWORDS and len(token) > 3]\n",
    "    return result"
   ]
  },
  {
   "cell_type": "code",
   "execution_count": 11,
   "metadata": {},
   "outputs": [
    {
     "name": "stdout",
     "output_type": "stream",
     "text": [
      "Original document: \n",
      "[u'\\n\\nFret', u'not,', u'you', u'made', u'it.\\n\\n\\nNot', u'while', u'we', u'still', u'have', u'our', u'guns.', u'', u'<evil', u'grin>', u'', u'\\n\\nHey,', u'gang,', u\"it's\", u'not', u'about', u'duck', u'hunting,', u'or', u'about', u'dark', u\"alleys,\\nit's\", u'about', u'black-clad,', u'helmeted', u'and', u'booted', u'troops', u'storming\\nhouses', u'and', u'violating', u'civil', u'rights', u'under', u'color', u'of', u'law.', u'\\n\\nAre', u'YOU', u'ready', u'to', u'defend', u'YOUR', u'Constitution?']\n",
      "\n",
      "\n",
      "Tokenized and lemmatized document: \n",
      "[u'fret', u'gun', u'evil', u'grin', u'gang', u'duck', u'hunt', u'dark', u'alley', u'black', u'cloth', u'helmet', u'boot', u'troop', u'storm', u'hous', u'violat', u'civil', u'right', u'color', u'readi', u'defend', u'constitut']\n"
     ]
    }
   ],
   "source": [
    "'''\n",
    "Preview a document after preprocessing\n",
    "'''\n",
    "print(\"Original document: \")\n",
    "words = []\n",
    "for word in documents[document_num].split(' '):\n",
    "    words.append(word)\n",
    "print(words)\n",
    "print(\"\\n\\nTokenized and lemmatized document: \")\n",
    "print(preprocess(documents[document_num]))"
   ]
  },
  {
   "cell_type": "code",
   "execution_count": 12,
   "metadata": {
    "collapsed": true
   },
   "outputs": [],
   "source": [
    "'''\n",
    "Perform preprocessing on entire dataset\n",
    "'''\n",
    "processed_docs = [preprocess(doc) for doc in documents]"
   ]
  },
  {
   "cell_type": "markdown",
   "metadata": {},
   "source": [
    "## Step 3.1: Bag of words on the dataset ##"
   ]
  },
  {
   "cell_type": "code",
   "execution_count": 13,
   "metadata": {
    "collapsed": true
   },
   "outputs": [],
   "source": [
    "'''\n",
    "Create a dictionary containing the number of times a word appears in the training set\n",
    "'''\n",
    "dictionary = gensim.corpora.Dictionary(processed_docs)"
   ]
  },
  {
   "cell_type": "code",
   "execution_count": 14,
   "metadata": {},
   "outputs": [
    {
     "name": "stdout",
     "output_type": "stream",
     "text": [
      "(33015, u'fawn')\n",
      "(12744, u'circuitri')\n",
      "(2123, u'woodi')\n",
      "(41769, u'darrylo')\n",
      "(41054, u'poplar')\n",
      "(29617, u'spideri')\n",
      "(17723, u'polytechniqu')\n",
      "(13930, u'suzann')\n",
      "(6954, u'phenomenologist')\n",
      "(33722, u'francesca')\n",
      "(22109, u'honorari')\n"
     ]
    }
   ],
   "source": [
    "'''\n",
    "Checking dictionary created\n",
    "'''\n",
    "count = 0\n",
    "for k, v in dictionary.iteritems():\n",
    "    print(k, v)\n",
    "    count += 1\n",
    "    if count > 10:\n",
    "        break"
   ]
  },
  {
   "cell_type": "markdown",
   "metadata": {},
   "source": [
    "** Gensim filter_extremes **\n",
    "\n",
    "`filter_extremes(no_below=5, no_above=0.5, keep_n=100000)`\n",
    "\n",
    "Filter out tokens that appear in\n",
    "\n",
    "* less than no_below documents (absolute number) or\n",
    "* more than no_above documents (fraction of total corpus size, not absolute number).\n",
    "* after (1) and (2), keep only the first keep_n most frequent tokens (or keep all if None)."
   ]
  },
  {
   "cell_type": "code",
   "execution_count": 15,
   "metadata": {
    "collapsed": true
   },
   "outputs": [],
   "source": [
    "'''\n",
    "Remove very rare and very common words:\n",
    "\n",
    "- words appearing less than 15 times\n",
    "- words appearing in more than 10% of all documents\n",
    "'''\n",
    "dictionary.filter_extremes(no_below=15, \n",
    "                                no_above=0.10)"
   ]
  },
  {
   "cell_type": "markdown",
   "metadata": {},
   "source": [
    "** Gensim doc2bow **\n",
    "\n",
    "`doc2bow(document)`\n",
    "\n",
    "* Convert document (a list of words) into the bag-of-words format = list of (token_id, token_count) 2-tuples. Each word is assumed to be a tokenized and normalized string (either unicode or utf8-encoded). No further preprocessing is done on the words in document; apply tokenization, stemming etc. before calling this method."
   ]
  },
  {
   "cell_type": "code",
   "execution_count": 16,
   "metadata": {
    "collapsed": true
   },
   "outputs": [],
   "source": [
    "'''\n",
    "Create the Bag-of-words model for each document i.e for each document we create a dictionary reporting how many\n",
    "words and how many times those words appear.\n",
    "'''\n",
    "bow_corpus = [dictionary.doc2bow(doc) for doc in processed_docs]"
   ]
  },
  {
   "cell_type": "code",
   "execution_count": 17,
   "metadata": {},
   "outputs": [
    {
     "data": {
      "text/plain": [
       "[(630, 1),\n",
       " (881, 1),\n",
       " (918, 1),\n",
       " (999, 1),\n",
       " (1206, 1),\n",
       " (1770, 1),\n",
       " (1874, 1),\n",
       " (1962, 1),\n",
       " (2100, 1),\n",
       " (2501, 1),\n",
       " (2503, 1),\n",
       " (2765, 1),\n",
       " (2829, 1),\n",
       " (3084, 1),\n",
       " (3131, 1),\n",
       " (3335, 1),\n",
       " (3442, 1),\n",
       " (3591, 1),\n",
       " (3642, 1),\n",
       " (3790, 1)]"
      ]
     },
     "execution_count": 17,
     "metadata": {},
     "output_type": "execute_result"
    }
   ],
   "source": [
    "'''\n",
    "Checking Bag of Words corpus for our sample document --> (token_id, token_count)\n",
    "'''\n",
    "# document_num = 4310\n",
    "bow_corpus[document_num]"
   ]
  },
  {
   "cell_type": "code",
   "execution_count": 18,
   "metadata": {},
   "outputs": [
    {
     "name": "stdout",
     "output_type": "stream",
     "text": [
      "Word 630 (\"troop\") appears 1 time.\n",
      "Word 881 (\"boot\") appears 1 time.\n",
      "Word 918 (\"hunt\") appears 1 time.\n",
      "Word 999 (\"civil\") appears 1 time.\n",
      "Word 1206 (\"gun\") appears 1 time.\n",
      "Word 1770 (\"black\") appears 1 time.\n",
      "Word 1874 (\"color\") appears 1 time.\n",
      "Word 1962 (\"helmet\") appears 1 time.\n",
      "Word 2100 (\"constitut\") appears 1 time.\n",
      "Word 2501 (\"evil\") appears 1 time.\n",
      "Word 2503 (\"hous\") appears 1 time.\n",
      "Word 2765 (\"storm\") appears 1 time.\n",
      "Word 2829 (\"violat\") appears 1 time.\n",
      "Word 3084 (\"readi\") appears 1 time.\n",
      "Word 3131 (\"dark\") appears 1 time.\n",
      "Word 3335 (\"cloth\") appears 1 time.\n",
      "Word 3442 (\"gang\") appears 1 time.\n",
      "Word 3591 (\"duck\") appears 1 time.\n",
      "Word 3642 (\"grin\") appears 1 time.\n",
      "Word 3790 (\"defend\") appears 1 time.\n"
     ]
    }
   ],
   "source": [
    "'''\n",
    "Preview BOW for our sample preprocessed document\n",
    "'''\n",
    "# Here document_num is document number 4310 which we have checked in Step 2\n",
    "bow_doc_4310 = bow_corpus[document_num]\n",
    "\n",
    "for i in range(len(bow_doc_4310)):\n",
    "    print(\"Word {} (\\\"{}\\\") appears {} time.\".format(bow_doc_4310[i][0], \n",
    "                                                     dictionary[bow_doc_4310[i][0]], \n",
    "                                                     bow_doc_4310[i][1]))"
   ]
  },
  {
   "cell_type": "markdown",
   "metadata": {},
   "source": [
    "## Step 3.2: TF-IDF on our document set ##\n",
    "\n",
    "While performing TF-IDF on the corpus is not necessary for LDA implemention using the gensim model, it is recemmended. TF-IDF expects a bag-of-words (integer values) training corpus during initialization. During transformation, it will take a vector and return another vector of the same dimensionality.\n",
    "\n",
    "*Please note: The author of Gensim dictates the standard procedure for LDA to be using the Bag of Words model.*"
   ]
  },
  {
   "cell_type": "markdown",
   "metadata": {},
   "source": [
    "** TF-IDF stands for \"Term Frequency, Inverse Document Frequency\".**\n",
    "\n",
    "* It is a way to score the importance of words (or \"terms\") in a document based on how frequently they appear across multiple documents.\n",
    "* If a word appears frequently in a document, it's important. Give the word a high score. But if a word appears in many documents, it's not a unique identifier. Give the word a low score.\n",
    "* Therefore, common words like \"the\" and \"for\", which appear in many documents, will be scaled down. Words that appear frequently in a single document will be scaled up.\n",
    "\n",
    "In other words:\n",
    "\n",
    "* TF(w) = `(Number of times term w appears in a document) / (Total number of terms in the document)`.\n",
    "* IDF(w) = `log_e(Total number of documents / Number of documents with term w in it)`.\n",
    "\n",
    "** For example **\n",
    "\n",
    "* Consider a document containing `100` words wherein the word 'tiger' appears 3 times. \n",
    "* The term frequency (i.e., tf) for 'tiger' is then: \n",
    "    - `TF = (3 / 100) = 0.03`. \n",
    "\n",
    "* Now, assume we have `10 million` documents and the word 'tiger' appears in `1000` of these. Then, the inverse document frequency (i.e., idf) is calculated as:\n",
    "    - `IDF = log(10,000,000 / 1,000) = 4`. \n",
    "\n",
    "* Thus, the Tf-idf weight is the product of these quantities: \n",
    "    - `TF-IDF = 0.03 * 4 = 0.12`."
   ]
  },
  {
   "cell_type": "code",
   "execution_count": 17,
   "metadata": {
    "collapsed": true
   },
   "outputs": [],
   "source": [
    "'''\n",
    "Create tf-idf model object on \n",
    "'''\n",
    "from gensim import corpora, models\n",
    "tfidf = models.TfidfModel(bow_corpus)"
   ]
  },
  {
   "cell_type": "code",
   "execution_count": 18,
   "metadata": {
    "collapsed": true
   },
   "outputs": [],
   "source": [
    "'''\n",
    "Apply transformation to the entire corpus\n",
    "'''\n",
    "corpus_tfidf = tfidf[bow_corpus]"
   ]
  },
  {
   "cell_type": "code",
   "execution_count": 19,
   "metadata": {},
   "outputs": [
    {
     "name": "stdout",
     "output_type": "stream",
     "text": [
      "[(37, 0.02924493305598579),\n",
      " (70, 0.041178768527452336),\n",
      " (113, 0.04008568657768459),\n",
      " (114, 0.04043688209578033),\n",
      " (221, 0.04080091785715794),\n",
      " (224, 0.04543886857260671),\n",
      " (385, 0.036416350095079326),\n",
      " (408, 0.04535483542132858),\n",
      " (416, 0.040907420148641224),\n",
      " (455, 0.08325783671969088),\n",
      " (485, 0.032378781530203696),\n",
      " (570, 0.026838732092688673),\n",
      " (576, 0.19081274763367403),\n",
      " (610, 0.03318341752642401),\n",
      " (645, 0.08957131881027089),\n",
      " (650, 0.03796273634604967),\n",
      " (692, 0.03522833696525684),\n",
      " (808, 0.23695174265722618),\n",
      " (832, 0.02982583110923724),\n",
      " (866, 0.15107472089110963),\n",
      " (909, 0.06533564647804836),\n",
      " (930, 0.032772974509255474),\n",
      " (994, 0.03730763062218163),\n",
      " (1018, 0.027738412506140866),\n",
      " (1021, 0.04043688209578033),\n",
      " (1039, 0.06489444152815979),\n",
      " (1060, 0.21558039614235047),\n",
      " (1082, 0.32768881211945),\n",
      " (1115, 0.04432241916816081),\n",
      " (1154, 0.04259528764733274),\n",
      " (1172, 0.10017080978452829),\n",
      " (1182, 0.15413015913574957),\n",
      " (1214, 0.03832783151158076),\n",
      " (1217, 0.06473195441575083),\n",
      " (1242, 0.04053954145172963),\n",
      " (1243, 0.03427649947619176),\n",
      " (1310, 0.03624728203840956),\n",
      " (1352, 0.044398144775154455),\n",
      " (1453, 0.040907420148641224),\n",
      " (1457, 0.0463206717321609),\n",
      " (1467, 0.03984220576006618),\n",
      " (1482, 0.0956193783998036),\n",
      " (1483, 0.05526225678429701),\n",
      " (1488, 0.05941363080880957),\n",
      " (1498, 0.03481336569982392),\n",
      " (1525, 0.02834121296532807),\n",
      " (1554, 0.04101507383855687),\n",
      " (1564, 0.03059360667263331),\n",
      " (1596, 0.03634837802684939),\n",
      " (1617, 0.03701365002963122),\n",
      " (1648, 0.04028485060328518),\n",
      " (1649, 0.03941840268090032),\n",
      " (1705, 0.050497513467054625),\n",
      " (1758, 0.04123393691970364),\n",
      " (1787, 0.1060804449164494),\n",
      " (1798, 0.05359875403798885),\n",
      " (1801, 0.05874952681603801),\n",
      " (1837, 0.046987955628945165),\n",
      " (1924, 0.024945300173738565),\n",
      " (1926, 0.06473195441575083),\n",
      " (1994, 0.03870682365502784),\n",
      " (2025, 0.0966626874291731),\n",
      " (2032, 0.18434925791882797),\n",
      " (2039, 0.027036184748336883),\n",
      " (2052, 0.028822513110280192),\n",
      " (2092, 0.05439580886191216),\n",
      " (2179, 0.06331090006239307),\n",
      " (2205, 0.03776554437102115),\n",
      " (2229, 0.06416277839955767),\n",
      " (2257, 0.03923568435570355),\n",
      " (2376, 0.03222089580972436),\n",
      " (2380, 0.06050102308924942),\n",
      " (2404, 0.02921179535708149),\n",
      " (2443, 0.048359987733036444),\n",
      " (2525, 0.03213178676470255),\n",
      " (2574, 0.050927416313229674),\n",
      " (2579, 0.0301295026746024),\n",
      " (2587, 0.05137671971191653),\n",
      " (2678, 0.09496635009358961),\n",
      " (2698, 0.05063876220881438),\n",
      " (2736, 0.03191244156734221),\n",
      " (2743, 0.025590840592789908),\n",
      " (2768, 0.06129807791317274),\n",
      " (2822, 0.039890427981815836),\n",
      " (2839, 0.06114924243069055),\n",
      " (2842, 0.03753395557653716),\n",
      " (2859, 0.03152939936920428),\n",
      " (2865, 0.03742015011690024),\n",
      " (2870, 0.03247013877035518),\n",
      " (2899, 0.03919052387317015),\n",
      " (2950, 0.03270226744769496),\n",
      " (2978, 0.051687928456396005),\n",
      " (3018, 0.04228310316728527),\n",
      " (3021, 0.04246923698534049),\n",
      " (3033, 0.04222182377801425),\n",
      " (3145, 0.16647355020829296),\n",
      " (3164, 0.10758423359922925),\n",
      " (3201, 0.053792116799614625),\n",
      " (3234, 0.04870538198715736),\n",
      " (3255, 0.03159222525161883),\n",
      " (3289, 0.05812695727068196),\n",
      " (3299, 0.04956118547311321),\n",
      " (3310, 0.14906902767718774),\n",
      " (3418, 0.055725497021271636),\n",
      " (3454, 0.08235753705490467),\n",
      " (3524, 0.03618045044975792),\n",
      " (3546, 0.04424726508062846),\n",
      " (3547, 0.05340907460147669),\n",
      " (3554, 0.07164137067236792),\n",
      " (3559, 0.04587001250675385),\n",
      " (3579, 0.04278740684113535),\n",
      " (3612, 0.1243290516711152),\n",
      " (3621, 0.026543377115166925),\n",
      " (3646, 0.027838780649322173),\n",
      " (3647, 0.18389423373951821),\n",
      " (3696, 0.24123734119158916),\n",
      " (3705, 0.03059360667263331),\n",
      " (3709, 0.030111380978370652),\n",
      " (3717, 0.06012520983468206),\n",
      " (3764, 0.038663994043491204),\n",
      " (3812, 0.05596545729109621),\n",
      " (3867, 0.07317667659334792),\n",
      " (3876, 0.0478096891999018),\n",
      " (3911, 0.031384328988024526),\n",
      " (3913, 0.03634837802684939),\n",
      " (3921, 0.02912943037690361),\n",
      " (3975, 0.05234113762386729),\n",
      " (3978, 0.02639268769233925),\n",
      " (3980, 0.4135323051097029),\n",
      " (4015, 0.05439580886191216),\n",
      " (4026, 0.04462883932426663),\n",
      " (4104, 0.028493944016594868),\n",
      " (4156, 0.06262776607253222),\n",
      " (4183, 0.03808295353247004),\n",
      " (4221, 0.10127752441762876),\n",
      " (4222, 0.03618045044975792),\n",
      " (4247, 0.06089157782590372),\n",
      " (4319, 0.06597831263836099),\n",
      " (4324, 0.03901190259363132),\n",
      " (4340, 0.059763065586147274),\n",
      " (4342, 0.03836923643331869),\n",
      " (4352, 0.0617218809923386),\n",
      " (4364, 0.0382865980392851),\n",
      " (4386, 0.10758423359922925),\n",
      " (4465, 0.033689001708130425)]\n"
     ]
    }
   ],
   "source": [
    "'''\n",
    "Preview TF-IDF scores for our first document --> --> (token_id, tfidf score)\n",
    "'''\n",
    "from pprint import pprint\n",
    "for doc in corpus_tfidf:\n",
    "    pprint(doc)\n",
    "    break"
   ]
  },
  {
   "cell_type": "markdown",
   "metadata": {},
   "source": [
    "## Step 4.1: Running LDA using Bag of Words ##\n",
    "\n",
    "We are going for 10 topics in the document corpus.\n",
    "\n",
    "** We will be running LDA using all CPU cores to parallelize and speed up model training.**\n",
    "\n",
    "Some of the parameters we will be tweaking are:\n",
    "\n",
    "* **num_topics** is the number of requested latent topics to be extracted from the training corpus.\n",
    "* **id2word** is a mapping from word ids (integers) to words (strings). It is used to determine the vocabulary size, as well as for debugging and topic printing.\n",
    "* **workers** is the number of extra processes to use for parallelization. Uses all available cores by default.\n",
    "* **alpha** and **eta** are hyperparameters that affect sparsity of the document-topic (theta) and topic-word (lambda) distributions. We will let these be the default values for now(default value is `1/num_topics`)\n",
    "    - Alpha is the per document topic distribution.\n",
    "        * High alpha: Every document has a mixture of all topics(documents appear similar to each other).\n",
    "        * Low alpha: Every document has a mixture of very few topics\n",
    "\n",
    "    - Eta is the per topic word distribution.\n",
    "        * High eta: Each topic has a mixture of most words(topics appear similar to each other).\n",
    "        * Low eta: Each topic has a mixture of few words.\n",
    "\n",
    "* ** passes ** is the number of training passes through the corpus. For  example, if the training corpus has 50,000 documents, chunksize is  10,000, passes is 2, then online training is done in 10 updates: \n",
    "    * `#1 documents 0-9,999 `\n",
    "    * `#2 documents 10,000-19,999 `\n",
    "    * `#3 documents 20,000-29,999 `\n",
    "    * `#4 documents 30,000-39,999 `\n",
    "    * `#5 documents 40,000-49,999 `\n",
    "    * `#6 documents 0-9,999 `\n",
    "    * `#7 documents 10,000-19,999 `\n",
    "    * `#8 documents 20,000-29,999 `\n",
    "    * `#9 documents 30,000-39,999 `\n",
    "    * `#10 documents 40,000-49,999`\n",
    "    \n",
    "The default values are:\n",
    "\n",
    "`def __init__(self, corpus=None, \n",
    "                    num_topics=100, \n",
    "                    id2word=None,\n",
    "                    distributed=False, \n",
    "                    chunksize=2000, \n",
    "                    passes=1, \n",
    "                    update_every=1,\n",
    "                    alpha='symmetric', \n",
    "                    eta=None, \n",
    "                    decay=0.5, \n",
    "                    offset=1.0,\n",
    "                    eval_every=10, \n",
    "                    iterations=50, \n",
    "                    gamma_threshold=0.001)`"
   ]
  },
  {
   "cell_type": "code",
   "execution_count": 19,
   "metadata": {
    "collapsed": true
   },
   "outputs": [],
   "source": [
    "# LDA mono-core\n",
    "# lda_model = gensim.models.LdaModel(bow_corpus, \n",
    "#                                    num_topics = 10, \n",
    "#                                    id2word = dictionary,                                    \n",
    "#                                    passes = 1)\n",
    "\n",
    "# LDA multicore \n",
    "lda_model = gensim.models.LdaMulticore(bow_corpus, \n",
    "                                       num_topics=10, \n",
    "                                       id2word = dictionary, \n",
    "                                       passes = 1, \n",
    "                                       workers=2)"
   ]
  },
  {
   "cell_type": "code",
   "execution_count": 26,
   "metadata": {},
   "outputs": [
    {
     "name": "stdout",
     "output_type": "stream",
     "text": [
      "Topic: 0 Word: 0.007*drive + 0.006*game + 0.003*includ + 0.003*inform + 0.003*control\n",
      "\n",
      "\n",
      "Topic: 1 Word: 0.005*read + 0.004*line + 0.004*game + 0.004*team + 0.004*believ\n",
      "\n",
      "\n",
      "Topic: 2 Word: 0.004*number + 0.004*includ + 0.003*power + 0.003*file + 0.003*program\n",
      "\n",
      "\n",
      "Topic: 3 Word: 0.005*christian + 0.004*believ + 0.004*question + 0.004*reason + 0.003*differ\n",
      "\n",
      "\n",
      "Topic: 4 Word: 0.004*file + 0.003*govern + 0.003*hear + 0.003*state + 0.003*support\n",
      "\n",
      "\n",
      "Topic: 5 Word: 0.006*drive + 0.004*question + 0.004*case + 0.004*believ + 0.003*mean\n",
      "\n",
      "\n",
      "Topic: 6 Word: 0.006*mail + 0.005*space + 0.004*includ + 0.004*list + 0.004*state\n",
      "\n",
      "\n",
      "Topic: 7 Word: 0.006*file + 0.004*state + 0.004*program + 0.004*group + 0.004*window\n",
      "\n",
      "\n",
      "Topic: 8 Word: 0.008*window + 0.005*program + 0.004*mean + 0.004*file + 0.004*version\n",
      "\n",
      "\n",
      "Topic: 9 Word: 0.007*file + 0.007*program + 0.006*drive + 0.004*data + 0.004*window\n",
      "\n",
      "\n"
     ]
    }
   ],
   "source": [
    "'''\n",
    "For each topic, we will explore the words occuring in that topic and its relative weight\n",
    "'''\n",
    "# set topics=-1 to print all topics.\n",
    "for idx, topic in lda_model.print_topics(num_topics=10, num_words=5):\n",
    "    print(\"Topic: {} Word: {}\".format(idx, topic))\n",
    "    print(\"\\n\")"
   ]
  },
  {
   "cell_type": "code",
   "execution_count": 28,
   "metadata": {},
   "outputs": [
    {
     "data": {
      "text/plain": [
       "[(2055, 0.0047381153101580574),\n",
       " (3342, 0.0043584901210308872),\n",
       " (3204, 0.0041168804188232381),\n",
       " (2618, 0.0036317371681088414),\n",
       " (2710, 0.0036186413104838198),\n",
       " (1470, 0.003436890433743134),\n",
       " (2688, 0.0033314202137994134),\n",
       " (165, 0.0032676598250588815),\n",
       " (2839, 0.0029013560053822887),\n",
       " (2743, 0.0028312477739049005)]"
      ]
     },
     "execution_count": 28,
     "metadata": {},
     "output_type": "execute_result"
    }
   ],
   "source": [
    "lda_model.get_topic_terms(1)"
   ]
  },
  {
   "cell_type": "markdown",
   "metadata": {},
   "source": [
    "### Classification of the topics ###\n",
    "\n",
    "Using the words in each topic and their corresponding weights, we have the following categories:\n",
    "\n",
    "* 0: Computer Software\n",
    "* 1: Space\n",
    "* 2: Government\n",
    "* 3: Energy\n",
    "* 4: Sports\n",
    "* 5: Applications\n",
    "* 6: Religion\n",
    "* 7: Computer Hardware\n",
    "* 8: Automotives\n",
    "* 9: Politics"
   ]
  },
  {
   "cell_type": "markdown",
   "metadata": {},
   "source": [
    "## Step 4.2 Running LDA using TF-IDF ##"
   ]
  },
  {
   "cell_type": "code",
   "execution_count": 39,
   "metadata": {
    "collapsed": true
   },
   "outputs": [],
   "source": [
    "'''\n",
    "Define lda model using tfidf corpus\n",
    "'''\n",
    "lda_model_tfidf = gensim.models.LdaMulticore(corpus_tfidf, \n",
    "                                             num_topics=10, \n",
    "                                             id2word = dictionary, \n",
    "                                             passes = 50, \n",
    "                                             workers=4)"
   ]
  },
  {
   "cell_type": "code",
   "execution_count": 40,
   "metadata": {},
   "outputs": [
    {
     "name": "stdout",
     "output_type": "stream",
     "text": [
      "Topic: 0 Word: 0.009*\"detector\" + 0.008*\"adam\" + 0.008*\"captain\" + 0.008*\"radar\" + 0.007*\"pen\" + 0.007*\"delet\" + 0.006*\"devil\" + 0.006*\"espn\" + 0.005*\"ranger\" + 0.005*\"lamp\"\n",
      "\n",
      "\n",
      "Topic: 1 Word: 0.009*\"window\" + 0.007*\"file\" + 0.006*\"drive\" + 0.006*\"card\" + 0.005*\"program\" + 0.004*\"mail\" + 0.004*\"softwar\" + 0.004*\"disk\" + 0.004*\"monitor\" + 0.004*\"help\"\n",
      "\n",
      "\n",
      "Topic: 2 Word: 0.007*\"christian\" + 0.005*\"jesus\" + 0.005*\"believ\" + 0.004*\"bibl\" + 0.004*\"mean\" + 0.004*\"church\" + 0.004*\"religion\" + 0.003*\"moral\" + 0.003*\"life\" + 0.003*\"exist\"\n",
      "\n",
      "\n",
      "Topic: 3 Word: 0.017*\"space\" + 0.012*\"nasa\" + 0.012*\"orbit\" + 0.010*\"launch\" + 0.009*\"moon\" + 0.007*\"satellit\" + 0.007*\"address\" + 0.006*\"earth\" + 0.006*\"shuttl\" + 0.005*\"test\"\n",
      "\n",
      "\n",
      "Topic: 4 Word: 0.012*\"armenian\" + 0.011*\"israel\" + 0.010*\"isra\" + 0.009*\"arab\" + 0.007*\"jew\" + 0.007*\"kill\" + 0.005*\"turkish\" + 0.005*\"turkey\" + 0.004*\"greek\" + 0.004*\"turk\"\n",
      "\n",
      "\n",
      "Topic: 5 Word: 0.013*\"gordon\" + 0.013*\"diseas\" + 0.012*\"surrend\" + 0.012*\"pitt\" + 0.012*\"skeptic\" + 0.011*\"shame\" + 0.011*\"patient\" + 0.011*\"cadr\" + 0.011*\"intellect\" + 0.011*\"chastiti\"\n",
      "\n",
      "\n",
      "Topic: 6 Word: 0.011*\"colormap\" + 0.009*\"temp\" + 0.007*\"vice\" + 0.007*\"cell\" + 0.007*\"bronx\" + 0.006*\"manhattan\" + 0.006*\"queen\" + 0.006*\"beauchain\" + 0.006*\"bobb\" + 0.006*\"sink\"\n",
      "\n",
      "\n",
      "Topic: 7 Word: 0.003*\"govern\" + 0.003*\"encrypt\" + 0.002*\"state\" + 0.002*\"player\" + 0.002*\"better\" + 0.002*\"team\" + 0.002*\"number\" + 0.002*\"play\" + 0.002*\"game\" + 0.002*\"chip\"\n",
      "\n",
      "\n",
      "Topic: 8 Word: 0.023*\"bike\" + 0.010*\"motorcycl\" + 0.009*\"ride\" + 0.007*\"car\" + 0.007*\"rid\" + 0.007*\"rear\" + 0.007*\"mile\" + 0.007*\"honda\" + 0.006*\"tire\" + 0.006*\"wheel\"\n",
      "\n",
      "\n",
      "Topic: 9 Word: 0.027*\"game\" + 0.012*\"team\" + 0.011*\"pitch\" + 0.011*\"basebal\" + 0.009*\"season\" + 0.009*\"boston\" + 0.009*\"brave\" + 0.008*\"score\" + 0.008*\"detroit\" + 0.008*\"chicago\"\n",
      "\n",
      "\n"
     ]
    }
   ],
   "source": [
    "'''\n",
    "For each topic, we will explore the words occuring in that topic and its relative weight\n",
    "'''\n",
    "for idx, topic in lda_model_tfidf.print_topics(-1):\n",
    "    print(\"Topic: {} Word: {}\".format(idx, topic))\n",
    "    print(\"\\n\")"
   ]
  },
  {
   "cell_type": "markdown",
   "metadata": {},
   "source": [
    "### Classification of the topics ###\n",
    "\n",
    "As we can see, when using tf-idf, heavier weights are given to words that are not as frequent which results in nouns being factored in. That makes it harder to figure out the categories as nouns can be hard to categorize. This goes to show that the models we apply depend on the type of corpus of text we are dealing with. \n",
    "\n",
    "Using the words in each topic and their corresponding weights, we have the following categories:\n",
    "\n",
    "* 0: Unclear\n",
    "* 1: Computer Software\n",
    "* 2: Space\n",
    "* 3: Religion\n",
    "* 4: Middle East\n",
    "* 5: Unclear\n",
    "* 6: Unclear\n",
    "* 7: Politics\n",
    "* 8: Automotives\n",
    "* 9: Sports"
   ]
  },
  {
   "cell_type": "markdown",
   "metadata": {},
   "source": [
    "## Step 5.1: Performance evaluation by classifying sample document using LDA Bag of Words model##\n",
    "\n",
    "We will check to see where our test document would be classified. "
   ]
  },
  {
   "cell_type": "code",
   "execution_count": 32,
   "metadata": {},
   "outputs": [
    {
     "name": "stdout",
     "output_type": "stream",
     "text": [
      "\n",
      "\n",
      "Fret not, you made it.\n",
      "\n",
      "\n",
      "Not while we still have our guns.  <evil grin>  \n",
      "\n",
      "Hey, gang, it's not about duck hunting, or about dark alleys,\n",
      "it's about black-clad, helmeted and booted troops storming\n",
      "houses and violating civil rights under color of law. \n",
      "\n",
      "Are YOU ready to defend YOUR Constitution?\n"
     ]
    }
   ],
   "source": [
    "'''\n",
    "Text of sample document 4310\n",
    "'''\n",
    "print(documents[document_num])"
   ]
  },
  {
   "cell_type": "code",
   "execution_count": 33,
   "metadata": {},
   "outputs": [
    {
     "name": "stdout",
     "output_type": "stream",
     "text": [
      "\n",
      "Score: 0.6458886951521011\t \n",
      "Topic: 0.016*\"armenian\" + 0.009*\"state\" + 0.007*\"kill\" + 0.007*\"turkish\" + 0.007*\"weapon\" + 0.005*\"govern\" + 0.005*\"firearm\" + 0.005*\"report\" + 0.005*\"attack\" + 0.004*\"children\"\n",
      "\n",
      "Score: 0.1464546793671742\t \n",
      "Topic: 0.011*\"power\" + 0.010*\"wire\" + 0.007*\"light\" + 0.007*\"grind\" + 0.006*\"current\" + 0.005*\"appear\" + 0.005*\"circuit\" + 0.005*\"cover\" + 0.005*\"water\" + 0.004*\"pictur\"\n",
      "\n",
      "Score: 0.09064204432828646\t \n",
      "Topic: 0.006*\"state\" + 0.006*\"believ\" + 0.006*\"mean\" + 0.006*\"tell\" + 0.005*\"israel\" + 0.005*\"question\" + 0.005*\"live\" + 0.005*\"govern\" + 0.005*\"case\" + 0.004*\"fact\"\n",
      "\n",
      "Score: 0.08843793487079113\t \n",
      "Topic: 0.023*\"drive\" + 0.017*\"card\" + 0.012*\"disk\" + 0.010*\"scsi\" + 0.010*\"control\" + 0.010*\"driver\" + 0.008*\"price\" + 0.008*\"hard\" + 0.007*\"monitor\" + 0.007*\"chip\"\n"
     ]
    }
   ],
   "source": [
    "'''\n",
    "Check which topic our test document belongs to using the LDA Bag of Words model.\n",
    "'''\n",
    "\n",
    "# Our test document is document number 4310\n",
    "for index, score in sorted(lda_model[bow_corpus[document_num]], key=lambda tup: -1*tup[1]):\n",
    "    print(\"\\nScore: {}\\t \\nTopic: {}\".format(score, lda_model.print_topic(index, 10)))"
   ]
  },
  {
   "cell_type": "markdown",
   "metadata": {},
   "source": [
    "### It has the highest probability (`64.5%`) to be  part of the topic that we assigned as Politics, which is the accurate classification. ###"
   ]
  },
  {
   "cell_type": "markdown",
   "metadata": {},
   "source": [
    "## Step 5.2: Performance evaluation by classifying sample document using LDA TF-IDF model##"
   ]
  },
  {
   "cell_type": "code",
   "execution_count": 41,
   "metadata": {},
   "outputs": [
    {
     "name": "stdout",
     "output_type": "stream",
     "text": [
      "\n",
      "Score: 0.46183573112950044\t \n",
      "Topic: 0.012*\"armenian\" + 0.011*\"israel\" + 0.010*\"isra\" + 0.009*\"arab\" + 0.007*\"jew\" + 0.007*\"kill\" + 0.005*\"turkish\" + 0.005*\"turkey\" + 0.004*\"greek\" + 0.004*\"turk\"\n",
      "\n",
      "Score: 0.3419984058519753\t \n",
      "Topic: 0.003*\"govern\" + 0.003*\"encrypt\" + 0.002*\"state\" + 0.002*\"player\" + 0.002*\"better\" + 0.002*\"team\" + 0.002*\"number\" + 0.002*\"play\" + 0.002*\"game\" + 0.002*\"chip\"\n",
      "\n",
      "Score: 0.08992600402663535\t \n",
      "Topic: 0.009*\"detector\" + 0.008*\"adam\" + 0.008*\"captain\" + 0.008*\"radar\" + 0.007*\"pen\" + 0.007*\"delet\" + 0.006*\"devil\" + 0.006*\"espn\" + 0.005*\"ranger\" + 0.005*\"lamp\"\n",
      "\n",
      "Score: 0.07766221966445937\t \n",
      "Topic: 0.023*\"bike\" + 0.010*\"motorcycl\" + 0.009*\"ride\" + 0.007*\"car\" + 0.007*\"rid\" + 0.007*\"rear\" + 0.007*\"mile\" + 0.007*\"honda\" + 0.006*\"tire\" + 0.006*\"wheel\"\n"
     ]
    }
   ],
   "source": [
    "'''\n",
    "Check which topic our test document belongs to using the LDA TF-IDF model.\n",
    "'''\n",
    "\n",
    "# Our test document is document number 4310\n",
    "for index, score in sorted(lda_model_tfidf[bow_corpus[document_num]], key=lambda tup: -1*tup[1]):\n",
    "    print(\"\\nScore: {}\\t \\nTopic: {}\".format(score, lda_model_tfidf.print_topic(index, 10)))"
   ]
  },
  {
   "cell_type": "markdown",
   "metadata": {},
   "source": [
    "### It has the highest probability (`34.1%`) to be  part of the topic that we assigned as Politics. ###"
   ]
  },
  {
   "cell_type": "markdown",
   "metadata": {},
   "source": [
    "## Step 5.2: Performance evaluation of model as a whole ##\n",
    "\n",
    "NOTE: log perplexity explanation\n",
    "\n",
    "We use the perplexity(logarithm) for our evaluation. The perplexity is connected to the log likelihood that the model is able to **generate the documents, given the distribution of topics for those documents**. The lower the perplexity, the better the model as it signifies that the model can regenerate the text quite well.\n",
    "\n",
    "The perplexity of a discrete probability distribution p is defined as\n",
    "\n",
    "2^{H(p)}=2^{-\\sum _{x}p(x)\\log _{2}p(x)}} 2^{{H(p)}}=2^{{-\\sum _{x}p(x)\\log _{2}p(x)}}\n",
    "where H(p) is the entropy of the distribution and x ranges over events.\n",
    "\n",
    "Perplexity of a random variable X may be defined as the perplexity of the distribution over its possible values x."
   ]
  },
  {
   "cell_type": "code",
   "execution_count": 35,
   "metadata": {},
   "outputs": [
    {
     "name": "stdout",
     "output_type": "stream",
     "text": [
      "Log perplexity of the model is -7.37815975223\n"
     ]
    }
   ],
   "source": [
    "'''\n",
    "Calcualte log perplexity of the model to check if the model can generate the text.\n",
    "'''\n",
    "print(\"Log perplexity of the model is\", lda_model.log_perplexity(bow_corpus))"
   ]
  },
  {
   "cell_type": "markdown",
   "metadata": {},
   "source": [
    "## Step 6: Testing model on unseen document ##"
   ]
  },
  {
   "cell_type": "code",
   "execution_count": 38,
   "metadata": {},
   "outputs": [
    {
     "name": "stdout",
     "output_type": "stream",
     "text": [
      "Score: 0.6169210224607728\t Topic: 0.026*\"game\" + 0.019*\"team\" + 0.017*\"play\" + 0.012*\"player\" + 0.010*\"season\"\n",
      "Score: 0.22304756274928622\t Topic: 0.012*\"space\" + 0.009*\"encrypt\" + 0.007*\"secur\" + 0.007*\"program\" + 0.006*\"inform\"\n",
      "Score: 0.020006336204154672\t Topic: 0.022*\"file\" + 0.020*\"window\" + 0.013*\"imag\" + 0.012*\"program\" + 0.011*\"mail\"\n",
      "Score: 0.02000512555690829\t Topic: 0.023*\"drive\" + 0.017*\"card\" + 0.012*\"disk\" + 0.010*\"scsi\" + 0.010*\"control\"\n",
      "Score: 0.020004612382756047\t Topic: 0.006*\"bike\" + 0.005*\"tell\" + 0.005*\"get\" + 0.005*\"take\" + 0.004*\"differ\"\n",
      "Score: 0.020004361925737575\t Topic: 0.016*\"armenian\" + 0.009*\"state\" + 0.007*\"kill\" + 0.007*\"turkish\" + 0.007*\"weapon\"\n",
      "Score: 0.020003530223374595\t Topic: 0.016*\"christian\" + 0.011*\"believ\" + 0.010*\"exist\" + 0.009*\"book\" + 0.008*\"bibl\"\n",
      "Score: 0.020003387682446236\t Topic: 0.011*\"power\" + 0.010*\"wire\" + 0.007*\"light\" + 0.007*\"grind\" + 0.006*\"current\"\n",
      "Score: 0.020003036486462827\t Topic: 0.006*\"state\" + 0.006*\"believ\" + 0.006*\"mean\" + 0.006*\"tell\" + 0.005*\"israel\"\n",
      "Score: 0.020001024328100764\t Topic: 0.021*\"file\" + 0.017*\"entri\" + 0.015*\"program\" + 0.013*\"output\" + 0.012*\"line\"\n"
     ]
    }
   ],
   "source": [
    "unseen_document = \"My favorite sports activities are running and swimming.\"\n",
    "\n",
    "# Data preprocessing step for the unseen document\n",
    "bow_vector = dictionary.doc2bow(preprocess(unseen_document))\n",
    "\n",
    "for index, score in sorted(lda_model[bow_vector], key=lambda tup: -1*tup[1]):\n",
    "    print(\"Score: {}\\t Topic: {}\".format(score, lda_model.print_topic(index, 5)))"
   ]
  },
  {
   "cell_type": "markdown",
   "metadata": {},
   "source": [
    "The model correctly classifies the unseen document with 61.6% probability to the Sports category."
   ]
  },
  {
   "cell_type": "markdown",
   "metadata": {},
   "source": [
    "Following explanation by Edward Chen:\n",
    "\n",
    "* Go through each document, and randomly assign each word in the document to one of the K topics. Notice that this random assignment already gives you both topic representations of all the documents and word distributions of all the topics (albeit not very good ones).\n",
    "* So to improve on them, for each document d:\n",
    "    - Go through each word w in d:\n",
    "        - And for each topic t, compute two things: \n",
    "            - 1) A - the proportion of words in document `d` that are currently assigned to topic `t`, and \n",
    "            - 2) B - the proportion of assignments to topic `t` over all documents that come from this word `w`. \n",
    "        - Reassign `w` a new topic, where we choose topic `t` with probability `A * B` (according to our generative model, this is essentially the probability that topic `t` generated word `w`, so it makes sense that we resample the current word’s topic with this probability). \n",
    "        \n",
    "        \n",
    "* After repeating the previous step a large number of times, you’ll eventually reach a roughly steady state where your assignments are pretty good. So use these assignments to estimate the topic mixtures of each document:\n",
    "    - by counting the proportion of words assigned to each topic within that document and \n",
    "    - the words associated to each topic (by counting the proportion of words assigned to each topic overall|."
   ]
  },
  {
   "cell_type": "code",
   "execution_count": null,
   "metadata": {
    "collapsed": true
   },
   "outputs": [],
   "source": []
  }
 ],
 "metadata": {
  "kernelspec": {
   "display_name": "Python 3",
   "language": "python",
   "name": "python3"
  },
  "language_info": {
   "codemirror_mode": {
    "name": "ipython",
    "version": 3
   },
   "file_extension": ".py",
   "mimetype": "text/x-python",
   "name": "python",
   "nbconvert_exporter": "python",
   "pygments_lexer": "ipython3",
   "version": "3.6.0"
  }
 },
 "nbformat": 4,
 "nbformat_minor": 1
}
