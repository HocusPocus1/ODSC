{
 "cells": [
  {
   "cell_type": "markdown",
   "metadata": {},
   "source": [
    "## Step 0: Latent Dirichlet Allocation ##\n",
    "\n",
    "LDA is used to classify text in a document to a particular topic. It builds a topic per document model and words per topic model, modeled as Dirichlet distributions. \n",
    "\n",
    "* Each document is modeled as a multinomial distribution of topics and each topic is modeled as a multinomial distribution of words.\n",
    "* LDA assumes that the every chunk of text we feed into it will contain words that are somehow related. Therefore choosing the right corpus of data is crucial. \n",
    "* It also assumes documents are produced from a mixture of topics. Those topics then generate words based on their probability distribution. "
   ]
  },
  {
   "cell_type": "markdown",
   "metadata": {},
   "source": [
    "### LDA on a real world dataset ###\n",
    "\n",
    "We will be using the 20 Newsgroup dataset wich is a collection of emails exchanged in 20 newsgroups. You can read more about the dataset [here](http://qwone.com/~jason/20Newsgroups/)."
   ]
  },
  {
   "cell_type": "markdown",
   "metadata": {},
   "source": [
    "## Step 1: Load the dataset ##\n",
    "\n",
    "The 20 newsgroups dataset comprises around 18000 newsgroups posts on 20 topics. Some of these topics are similar, so we will try to classify them into 10 topics.\n",
    "\n",
    "Remove all email headers, footers and quotes from the replied emails."
   ]
  },
  {
   "cell_type": "code",
   "execution_count": 10,
   "metadata": {
    "collapsed": true
   },
   "outputs": [],
   "source": [
    "'''\n",
    "Dataset from http://scikit-learn.org/stable/datasets/twenty_newsgroups.html\n",
    "'''\n",
    "import numpy as np\n",
    "np.random.seed(400)\n",
    "from sklearn.datasets import fetch_20newsgroups\n",
    "documents = fetch_20newsgroups(remove=('headers', 'footers', 'quotes')).data"
   ]
  },
  {
   "cell_type": "code",
   "execution_count": 11,
   "metadata": {},
   "outputs": [
    {
     "name": "stdout",
     "output_type": "stream",
     "text": [
      "11314\n"
     ]
    }
   ],
   "source": [
    "'''\n",
    "Get the total number of documents\n",
    "'''\n",
    "print(len(documents))"
   ]
  },
  {
   "cell_type": "code",
   "execution_count": 12,
   "metadata": {},
   "outputs": [
    {
     "name": "stdout",
     "output_type": "stream",
     "text": [
      "\n",
      "**Printing out a sample document:**\n",
      "\n",
      "\n",
      "Fret not, you made it.\n",
      "\n",
      "\n",
      "Not while we still have our guns.  <evil grin>  \n",
      "\n",
      "Hey, gang, it's not about duck hunting, or about dark alleys,\n",
      "it's about black-clad, helmeted and booted troops storming\n",
      "houses and violating civil rights under color of law. \n",
      "\n",
      "Are YOU ready to defend YOUR Constitution?\n"
     ]
    }
   ],
   "source": [
    "# Previewing a document\n",
    "document_num = 4310\n",
    "print(\"\\n**Printing out a sample document:**\")\n",
    "print(documents[document_num])"
   ]
  },
  {
   "cell_type": "markdown",
   "metadata": {},
   "source": [
    "** Looks like this document will come under `Politics`. **"
   ]
  },
  {
   "cell_type": "markdown",
   "metadata": {},
   "source": [
    "## Step 2: Data Preprocessing ##\n",
    "\n",
    "We will perform the following steps:\n",
    "\n",
    "* **Tokenization**: Split the text into sentences and the sentences into words. Lowercase the words and remove punctuation.\n",
    "* Words that have fewer than 3 characters are removed.\n",
    "* All **stopwords** are removed.\n",
    "* Words are **lemmatized** - words in third person are changed to first person and verbs in past and future tenses are changed into present.\n",
    "* Words are **stemmed** - words are reduced to their root form.\n"
   ]
  },
  {
   "cell_type": "code",
   "execution_count": 2,
   "metadata": {
    "collapsed": true
   },
   "outputs": [],
   "source": [
    "'''\n",
    "Loading Gensim library\n",
    "'''\n",
    "# pip install gensim\n",
    "import gensim\n",
    "from gensim.utils import simple_preprocess\n",
    "from gensim.parsing.preprocessing import STOPWORDS\n",
    "from nltk.stem import WordNetLemmatizer, SnowballStemmer\n",
    "from nltk.stem.porter import *\n",
    "import numpy as np\n",
    "np.random.seed(400)"
   ]
  },
  {
   "cell_type": "code",
   "execution_count": null,
   "metadata": {
    "collapsed": true
   },
   "outputs": [],
   "source": [
    "# import nltk\n",
    "# nltk.download()"
   ]
  },
  {
   "cell_type": "code",
   "execution_count": 3,
   "metadata": {},
   "outputs": [
    {
     "name": "stdout",
     "output_type": "stream",
     "text": [
      "go\n"
     ]
    }
   ],
   "source": [
    "'''\n",
    "Lemmatizing example for a verb, noun.\n",
    "'''\n",
    "print(WordNetLemmatizer().lemmatize('went', pos = 'v')) # past tense to present tense"
   ]
  },
  {
   "cell_type": "code",
   "execution_count": 15,
   "metadata": {},
   "outputs": [
    {
     "name": "stdout",
     "output_type": "stream",
     "text": [
      "caress fli die mule deni die agre own humbl size meet state siez item sensat tradit refer colon plot\n"
     ]
    }
   ],
   "source": [
    "'''\n",
    "Stemming example\n",
    "'''\n",
    "stemmer = SnowballStemmer(\"english\")\n",
    "plurals = ['caresses', 'flies', 'dies', 'mules', 'denied','died', 'agreed', 'owned', \n",
    "           'humbled', 'sized','meeting', 'stating', 'siezing', 'itemization','sensational', \n",
    "           'traditional', 'reference', 'colonizer','plotted']\n",
    "singles = [stemmer.stem(plural) for plural in plurals]\n",
    "print(' '.join(singles))"
   ]
  },
  {
   "cell_type": "code",
   "execution_count": 16,
   "metadata": {
    "collapsed": true
   },
   "outputs": [],
   "source": [
    "'''\n",
    "Data preprocessing\n",
    "'''\n",
    "def lemmatize_stemming(text):\n",
    "    return stemmer.stem(WordNetLemmatizer().lemmatize(text, pos='v'))\n",
    "\n",
    "# Tokenize and lemmatize\n",
    "def preprocess(text):\n",
    "    result = [lemmatize_stemming(token) for token in gensim.utils.simple_preprocess(text) \n",
    "              # Remove stop words and words less than 3 characters long\n",
    "              if token not in gensim.parsing.preprocessing.STOPWORDS and len(token) > 3]\n",
    "    return result"
   ]
  },
  {
   "cell_type": "code",
   "execution_count": 17,
   "metadata": {},
   "outputs": [
    {
     "name": "stdout",
     "output_type": "stream",
     "text": [
      "Original document: \n",
      "['\\n\\nFret', 'not,', 'you', 'made', 'it.\\n\\n\\nNot', 'while', 'we', 'still', 'have', 'our', 'guns.', '', '<evil', 'grin>', '', '\\n\\nHey,', 'gang,', \"it's\", 'not', 'about', 'duck', 'hunting,', 'or', 'about', 'dark', \"alleys,\\nit's\", 'about', 'black-clad,', 'helmeted', 'and', 'booted', 'troops', 'storming\\nhouses', 'and', 'violating', 'civil', 'rights', 'under', 'color', 'of', 'law.', '\\n\\nAre', 'YOU', 'ready', 'to', 'defend', 'YOUR', 'Constitution?']\n",
      "\n",
      "\n",
      "Tokenized and lemmatized document: \n",
      "['fret', 'gun', 'evil', 'grin', 'gang', 'duck', 'hunt', 'dark', 'alley', 'black', 'cloth', 'helmet', 'boot', 'troop', 'storm', 'hous', 'violat', 'civil', 'right', 'color', 'readi', 'defend', 'constitut']\n"
     ]
    }
   ],
   "source": [
    "'''\n",
    "Preview a document after preprocessing\n",
    "'''\n",
    "print(\"Original document: \")\n",
    "words = []\n",
    "for word in documents[document_num].split(' '):\n",
    "    words.append(word)\n",
    "print(words)\n",
    "print(\"\\n\\nTokenized and lemmatized document: \")\n",
    "print(preprocess(documents[document_num]))"
   ]
  },
  {
   "cell_type": "code",
   "execution_count": 18,
   "metadata": {
    "collapsed": true
   },
   "outputs": [],
   "source": [
    "'''\n",
    "Perform preprocessing on entire dataset\n",
    "'''\n",
    "processed_docs = [preprocess(doc) for doc in documents]"
   ]
  },
  {
   "cell_type": "markdown",
   "metadata": {},
   "source": [
    "## Step 3.1: Bag of words on the dataset ##"
   ]
  },
  {
   "cell_type": "code",
   "execution_count": 19,
   "metadata": {
    "collapsed": true
   },
   "outputs": [],
   "source": [
    "'''\n",
    "Create a dictionary containing the number of times a word appears in the training set\n",
    "'''\n",
    "dictionary = gensim.corpora.Dictionary(processed_docs)"
   ]
  },
  {
   "cell_type": "code",
   "execution_count": 20,
   "metadata": {},
   "outputs": [
    {
     "name": "stdout",
     "output_type": "stream",
     "text": [
      "0 snip\n",
      "1 place\n",
      "2 death\n",
      "3 soldier\n",
      "4 patrol\n",
      "5 occupi\n",
      "6 lebanes\n",
      "7 terrritori\n",
      "8 terror\n",
      "9 murder\n",
      "10 disingen\n"
     ]
    }
   ],
   "source": [
    "'''\n",
    "Checking dictionary created\n",
    "'''\n",
    "count = 0\n",
    "for k, v in dictionary.iteritems():\n",
    "    print(k, v)\n",
    "    count += 1\n",
    "    if count > 10:\n",
    "        break"
   ]
  },
  {
   "cell_type": "markdown",
   "metadata": {},
   "source": [
    "** Gensim filter_extremes **\n",
    "\n",
    "`filter_extremes(no_below=5, no_above=0.5, keep_n=100000)`\n",
    "\n",
    "Filter out tokens that appear in\n",
    "\n",
    "* less than no_below documents (absolute number) or\n",
    "* more than no_above documents (fraction of total corpus size, not absolute number).\n",
    "* after (1) and (2), keep only the first keep_n most frequent tokens (or keep all if None)."
   ]
  },
  {
   "cell_type": "code",
   "execution_count": 21,
   "metadata": {
    "collapsed": true
   },
   "outputs": [],
   "source": [
    "'''\n",
    "Remove very rare and very common words:\n",
    "\n",
    "- words appearing less than 15 times\n",
    "- words appearing in more than 10% of all documents\n",
    "'''\n",
    "dictionary.filter_extremes(no_below=15, \n",
    "                                no_above=0.10)"
   ]
  },
  {
   "cell_type": "markdown",
   "metadata": {},
   "source": [
    "** Gensim doc2bow **\n",
    "\n",
    "`doc2bow(document)`\n",
    "\n",
    "* Convert document (a list of words) into the bag-of-words format = list of (token_id, token_count) 2-tuples. Each word is assumed to be a tokenized and normalized string (either unicode or utf8-encoded). No further preprocessing is done on the words in document; apply tokenization, stemming etc. before calling this method."
   ]
  },
  {
   "cell_type": "code",
   "execution_count": 22,
   "metadata": {
    "collapsed": true
   },
   "outputs": [],
   "source": [
    "'''\n",
    "Create the Bag-of-words model for each document i.e for each document we create a dictionary reporting how many\n",
    "words and how many times those words appear.\n",
    "'''\n",
    "bow_corpus = [dictionary.doc2bow(doc) for doc in processed_docs]"
   ]
  },
  {
   "cell_type": "code",
   "execution_count": 23,
   "metadata": {},
   "outputs": [
    {
     "data": {
      "text/plain": [
       "[(146, 1),\n",
       " (195, 1),\n",
       " (199, 1),\n",
       " (200, 1),\n",
       " (201, 1),\n",
       " (202, 1),\n",
       " (203, 1),\n",
       " (204, 1),\n",
       " (205, 1),\n",
       " (206, 1),\n",
       " (207, 1),\n",
       " (208, 1),\n",
       " (209, 1),\n",
       " (210, 1),\n",
       " (211, 1),\n",
       " (212, 1),\n",
       " (213, 1),\n",
       " (214, 1),\n",
       " (229, 1),\n",
       " (4202, 1)]"
      ]
     },
     "execution_count": 23,
     "metadata": {},
     "output_type": "execute_result"
    }
   ],
   "source": [
    "'''\n",
    "Checking Bag of Words corpus for our sample document --> (token_id, token_count)\n",
    "'''\n",
    "# document_num = 4310\n",
    "bow_corpus[document_num]"
   ]
  },
  {
   "cell_type": "code",
   "execution_count": 24,
   "metadata": {},
   "outputs": [
    {
     "name": "stdout",
     "output_type": "stream",
     "text": [
      "Word 146 (\"color\") appears 1 time.\n",
      "Word 195 (\"evil\") appears 1 time.\n",
      "Word 199 (\"gang\") appears 1 time.\n",
      "Word 200 (\"duck\") appears 1 time.\n",
      "Word 201 (\"hunt\") appears 1 time.\n",
      "Word 202 (\"dark\") appears 1 time.\n",
      "Word 203 (\"black\") appears 1 time.\n",
      "Word 204 (\"cloth\") appears 1 time.\n",
      "Word 205 (\"helmet\") appears 1 time.\n",
      "Word 206 (\"boot\") appears 1 time.\n",
      "Word 207 (\"troop\") appears 1 time.\n",
      "Word 208 (\"storm\") appears 1 time.\n",
      "Word 209 (\"hous\") appears 1 time.\n",
      "Word 210 (\"violat\") appears 1 time.\n",
      "Word 211 (\"civil\") appears 1 time.\n",
      "Word 212 (\"readi\") appears 1 time.\n",
      "Word 213 (\"defend\") appears 1 time.\n",
      "Word 214 (\"constitut\") appears 1 time.\n",
      "Word 229 (\"gun\") appears 1 time.\n",
      "Word 4202 (\"grin\") appears 1 time.\n"
     ]
    }
   ],
   "source": [
    "'''\n",
    "Preview BOW for our sample preprocessed document\n",
    "'''\n",
    "# Here document_num is document number 4310 which we have checked in Step 2\n",
    "bow_doc_4310 = bow_corpus[document_num]\n",
    "\n",
    "for i in range(len(bow_doc_4310)):\n",
    "    print(\"Word {} (\\\"{}\\\") appears {} time.\".format(bow_doc_4310[i][0], \n",
    "                                                     dictionary[bow_doc_4310[i][0]], \n",
    "                                                     bow_doc_4310[i][1]))"
   ]
  },
  {
   "cell_type": "markdown",
   "metadata": {},
   "source": [
    "## Step 3.2: TF-IDF on our document set ##\n",
    "\n",
    "While performing TF-IDF on the corpus is not necessary for LDA implemention using the gensim model, it is recemmended. TF-IDF expects a bag-of-words (integer values) training corpus during initialization. During transformation, it will take a vector and return another vector of the same dimensionality.\n",
    "\n",
    "*Please note: The author of Gensim dictates the standard procedure for LDA to be using the Bag of Words model.*"
   ]
  },
  {
   "cell_type": "markdown",
   "metadata": {},
   "source": [
    "** TF-IDF stands for \"Term Frequency, Inverse Document Frequency\".**\n",
    "\n",
    "* It is a way to score the importance of words (or \"terms\") in a document based on how frequently they appear across multiple documents.\n",
    "* If a word appears frequently in a document, it's important. Give the word a high score. But if a word appears in many documents, it's not a unique identifier. Give the word a low score.\n",
    "* Therefore, common words like \"the\" and \"for\", which appear in many documents, will be scaled down. Words that appear frequently in a single document will be scaled up.\n",
    "\n",
    "In other words:\n",
    "\n",
    "* TF(w) = `(Number of times term w appears in a document) / (Total number of terms in the document)`.\n",
    "* IDF(w) = `log_e(Total number of documents / Number of documents with term w in it)`.\n",
    "\n",
    "** For example **\n",
    "\n",
    "* Consider a document containing `100` words wherein the word 'tiger' appears 3 times. \n",
    "* The term frequency (i.e., tf) for 'tiger' is then: \n",
    "    - `TF = (3 / 100) = 0.03`. \n",
    "\n",
    "* Now, assume we have `10 million` documents and the word 'tiger' appears in `1000` of these. Then, the inverse document frequency (i.e., idf) is calculated as:\n",
    "    - `IDF = log(10,000,000 / 1,000) = 4`. \n",
    "\n",
    "* Thus, the Tf-idf weight is the product of these quantities: \n",
    "    - `TF-IDF = 0.03 * 4 = 0.12`."
   ]
  },
  {
   "cell_type": "code",
   "execution_count": 25,
   "metadata": {
    "collapsed": true
   },
   "outputs": [],
   "source": [
    "'''\n",
    "Create tf-idf model object on \n",
    "'''\n",
    "from gensim import corpora, models\n",
    "tfidf = models.TfidfModel(bow_corpus)"
   ]
  },
  {
   "cell_type": "code",
   "execution_count": 26,
   "metadata": {
    "collapsed": true
   },
   "outputs": [],
   "source": [
    "'''\n",
    "Apply transformation to the entire corpus\n",
    "'''\n",
    "corpus_tfidf = tfidf[bow_corpus]"
   ]
  },
  {
   "cell_type": "code",
   "execution_count": 27,
   "metadata": {},
   "outputs": [
    {
     "name": "stdout",
     "output_type": "stream",
     "text": [
      "[(0, 0.026838732092688656),\n",
      " (1, 0.18434925791882786),\n",
      " (2, 0.23695174265722604),\n",
      " (3, 0.1838942337395181),\n",
      " (4, 0.14906902767718766),\n",
      " (5, 0.4135323051097026),\n",
      " (6, 0.15413015913574948),\n",
      " (7, 0.08325783671969082),\n",
      " (8, 0.0361804504497579),\n",
      " (9, 0.06262776607253219),\n",
      " (10, 0.06597831263836094),\n",
      " (11, 0.05137671971191649),\n",
      " (12, 0.10608044491644934),\n",
      " (13, 0.05168792845639598),\n",
      " (14, 0.06533564647804833),\n",
      " (15, 0.03059360667263329),\n",
      " (16, 0.038663994043491176),\n",
      " (17, 0.09496635009358956),\n",
      " (18, 0.029129430376903593),\n",
      " (19, 0.044247265080628435),\n",
      " (20, 0.033689001708130405),\n",
      " (21, 0.039890427981815815),\n",
      " (22, 0.15107472089110952),\n",
      " (23, 0.10127752441762869),\n",
      " (24, 0.21558039614235033),\n",
      " (25, 0.03427649947619174),\n",
      " (26, 0.24123734119158902),\n",
      " (27, 0.03222089580972434),\n",
      " (28, 0.04246923698534046),\n",
      " (29, 0.045438868572606685),\n",
      " (30, 0.06114924243069051),\n",
      " (31, 0.06473195441575079),\n",
      " (32, 0.041178768527452315),\n",
      " (33, 0.04123393691970361),\n",
      " (34, 0.04439814477515443),\n",
      " (35, 0.059413630808809535),\n",
      " (36, 0.03059360667263329),\n",
      " (37, 0.04101507383855684),\n",
      " (38, 0.03270226744769494),\n",
      " (39, 0.04028485060328516),\n",
      " (40, 0.07164137067236788),\n",
      " (41, 0.03634837802684937),\n",
      " (42, 0.048359987733036416),\n",
      " (43, 0.05596545729109618),\n",
      " (44, 0.08235753705490463),\n",
      " (45, 0.032470138770355164),\n",
      " (46, 0.0557254970212716),\n",
      " (47, 0.0361804504497579),\n",
      " (48, 0.08957131881027083),\n",
      " (49, 0.05439580886191212),\n",
      " (50, 0.04222182377801422),\n",
      " (51, 0.04053954145172961),\n",
      " (52, 0.027738412506140852),\n",
      " (53, 0.055262256784296984),\n",
      " (54, 0.06050102308924939),\n",
      " (55, 0.040907420148641196),\n",
      " (56, 0.061298077913172704),\n",
      " (57, 0.10017080978452823),\n",
      " (58, 0.10758423359922918),\n",
      " (59, 0.09666268742917304),\n",
      " (60, 0.05379211679961459),\n",
      " (61, 0.3276888121194498),\n",
      " (62, 0.19081274763367392),\n",
      " (63, 0.03753395557653714),\n",
      " (64, 0.04698795562894514),\n",
      " (65, 0.09561937839980354),\n",
      " (66, 0.04008568657768457),\n",
      " (67, 0.05359875403798881),\n",
      " (68, 0.02834121296532805),\n",
      " (69, 0.03159222525161881),\n",
      " (70, 0.02559084059278989),\n",
      " (71, 0.02849394401659485),\n",
      " (72, 0.06331090006239304),\n",
      " (73, 0.048705381987157334),\n",
      " (74, 0.0348133656998239),\n",
      " (75, 0.0394184026809003),\n",
      " (76, 0.040907420148641196),\n",
      " (77, 0.04587001250675383),\n",
      " (78, 0.03634837802684937),\n",
      " (79, 0.042283103167285244),\n",
      " (80, 0.037307630622181606),\n",
      " (81, 0.03191244156734219),\n",
      " (82, 0.06416277839955764),\n",
      " (83, 0.039842205760066154),\n",
      " (84, 0.046320671732160874),\n",
      " (85, 0.04278740684113532),\n",
      " (86, 0.044322419168160786),\n",
      " (87, 0.03213178676470253),\n",
      " (88, 0.03277297450925546),\n",
      " (89, 0.029825831109237224),\n",
      " (90, 0.03318341752642399),\n",
      " (91, 0.07317667659334788),\n",
      " (92, 0.16647355020829285),\n",
      " (93, 0.028822513110280175),\n",
      " (94, 0.06489444152815975),\n",
      " (95, 0.0446288393242666),\n",
      " (96, 0.03808295353247002),\n",
      " (97, 0.029211795357081474),\n",
      " (98, 0.03923568435570352),\n",
      " (99, 0.04535483542132856),\n",
      " (100, 0.04080091785715791),\n",
      " (101, 0.038327831511580736),\n",
      " (102, 0.05976306558614724),\n",
      " (103, 0.03919052387317013),\n",
      " (104, 0.03901190259363129),\n",
      " (105, 0.04259528764733272),\n",
      " (106, 0.0504975134670546),\n",
      " (107, 0.03522833696525682),\n",
      " (108, 0.10758423359922918),\n",
      " (109, 0.0370136500296312),\n",
      " (110, 0.03796273634604965),\n",
      " (111, 0.026392687692339236),\n",
      " (112, 0.030129502674602383),\n",
      " (113, 0.05234113762386726),\n",
      " (114, 0.04780968919990177),\n",
      " (115, 0.031384328988024505),\n",
      " (116, 0.026543377115166907),\n",
      " (117, 0.03152939936920426),\n",
      " (118, 0.06089157782590369),\n",
      " (119, 0.03776554437102113),\n",
      " (120, 0.04956118547311318),\n",
      " (121, 0.0404368820957803),\n",
      " (122, 0.027036184748336866),\n",
      " (123, 0.061721880992338565),\n",
      " (124, 0.12432905167111513),\n",
      " (125, 0.03011138097837063),\n",
      " (126, 0.03828659803928508),\n",
      " (127, 0.05092741631322965),\n",
      " (128, 0.029244933055985776),\n",
      " (129, 0.03624728203840954),\n",
      " (130, 0.03870682365502782),\n",
      " (131, 0.027838780649322156),\n",
      " (132, 0.060125209834682024),\n",
      " (133, 0.05812695727068193),\n",
      " (134, 0.03742015011690022),\n",
      " (135, 0.05439580886191212),\n",
      " (136, 0.0404368820957803),\n",
      " (137, 0.053409074601476654),\n",
      " (138, 0.05874952681603798),\n",
      " (139, 0.03836923643331867),\n",
      " (140, 0.02494530017373855),\n",
      " (141, 0.050638762208814345),\n",
      " (142, 0.032378781530203675),\n",
      " (143, 0.06473195441575079),\n",
      " (144, 0.036416350095079306)]\n"
     ]
    }
   ],
   "source": [
    "'''\n",
    "Preview TF-IDF scores for our first document --> --> (token_id, tfidf score)\n",
    "'''\n",
    "from pprint import pprint\n",
    "for doc in corpus_tfidf:\n",
    "    pprint(doc)\n",
    "    break"
   ]
  },
  {
   "cell_type": "markdown",
   "metadata": {},
   "source": [
    "## Step 4.1: Running LDA using Bag of Words ##\n",
    "\n",
    "We are going for 10 topics in the document corpus.\n",
    "\n",
    "** We will be running LDA using all CPU cores to parallelize and speed up model training.**\n",
    "\n",
    "Some of the parameters we will be tweaking are:\n",
    "\n",
    "* **num_topics** is the number of requested latent topics to be extracted from the training corpus.\n",
    "* **id2word** is a mapping from word ids (integers) to words (strings). It is used to determine the vocabulary size, as well as for debugging and topic printing.\n",
    "* **workers** is the number of extra processes to use for parallelization. Uses all available cores by default.\n",
    "* **alpha** and **eta** are hyperparameters that affect sparsity of the document-topic (theta) and topic-word (lambda) distributions. We will let these be the default values for now(default value is `1/num_topics`)\n",
    "    - Alpha is the per document topic distribution.\n",
    "        * High alpha: Every document has a mixture of all topics(documents appear similar to each other).\n",
    "        * Low alpha: Every document has a mixture of very few topics\n",
    "\n",
    "    - Eta is the per topic word distribution.\n",
    "        * High eta: Each topic has a mixture of most words(topics appear similar to each other).\n",
    "        * Low eta: Each topic has a mixture of few words.\n",
    "\n",
    "* ** passes ** is the number of training passes through the corpus. For  example, if the training corpus has 50,000 documents, chunksize is  10,000, passes is 2, then online training is done in 10 updates: \n",
    "    * `#1 documents 0-9,999 `\n",
    "    * `#2 documents 10,000-19,999 `\n",
    "    * `#3 documents 20,000-29,999 `\n",
    "    * `#4 documents 30,000-39,999 `\n",
    "    * `#5 documents 40,000-49,999 `\n",
    "    * `#6 documents 0-9,999 `\n",
    "    * `#7 documents 10,000-19,999 `\n",
    "    * `#8 documents 20,000-29,999 `\n",
    "    * `#9 documents 30,000-39,999 `\n",
    "    * `#10 documents 40,000-49,999`\n",
    "    \n",
    "At a high level:\n",
    "\n",
    "* Go through each document, and randomly assign each word in the document to one of the K topics. Notice that this random assignment already gives you both topic representations of all the documents and word distributions of all the topics (albeit not very good ones).\n",
    "* So to improve on them, for each document d:\n",
    "    - Go through each word w in d:\n",
    "        - And for each topic t, compute two things: \n",
    "            - 1) A - the proportion of words in document `d` that are currently assigned to topic `t`, and \n",
    "            - 2) B - the proportion of assignments to topic `t` over all documents that come from this word `w`. \n",
    "        - Reassign `w` a new topic, where we choose topic `t` with probability `A * B` (according to our generative model, this is essentially the probability that topic `t` generated word `w`, so it makes sense that we resample the current word’s topic with this probability). \n",
    "        \n",
    "        \n",
    "* After repeating the previous step a large number of times, you’ll eventually reach a roughly steady state where your assignments are pretty good. So use these assignments to estimate the topic mixtures of each document:\n",
    "    - by counting the proportion of words assigned to each topic within that document and \n",
    "    - the words associated to each topic (by counting the proportion of words assigned to each topic overall|.    "
   ]
  },
  {
   "cell_type": "code",
   "execution_count": 28,
   "metadata": {
    "collapsed": true
   },
   "outputs": [],
   "source": [
    "# LDA mono-core\n",
    "# lda_model = gensim.models.LdaModel(bow_corpus, \n",
    "#                                    num_topics = 10, \n",
    "#                                    id2word = dictionary,                                    \n",
    "#                                    passes = 1)\n",
    "\n",
    "# LDA multicore \n",
    "lda_model = gensim.models.LdaMulticore(bow_corpus, \n",
    "                                       num_topics=10, \n",
    "                                       id2word = dictionary, \n",
    "                                       passes = 50, \n",
    "                                       workers=2)"
   ]
  },
  {
   "cell_type": "code",
   "execution_count": 29,
   "metadata": {},
   "outputs": [
    {
     "name": "stdout",
     "output_type": "stream",
     "text": [
      "Topic: 0 Word: 0.022*\"file\" + 0.020*\"window\" + 0.013*\"imag\" + 0.012*\"program\" + 0.011*\"mail\" + 0.011*\"avail\" + 0.010*\"version\" + 0.009*\"server\" + 0.008*\"list\" + 0.008*\"softwar\"\n",
      "\n",
      "\n",
      "Topic: 1 Word: 0.012*\"space\" + 0.009*\"encrypt\" + 0.007*\"secur\" + 0.007*\"program\" + 0.006*\"inform\" + 0.006*\"public\" + 0.006*\"chip\" + 0.006*\"technolog\" + 0.005*\"data\" + 0.005*\"govern\"\n",
      "\n",
      "\n",
      "Topic: 2 Word: 0.006*\"state\" + 0.006*\"believ\" + 0.006*\"mean\" + 0.006*\"tell\" + 0.005*\"israel\" + 0.005*\"question\" + 0.005*\"live\" + 0.005*\"govern\" + 0.005*\"case\" + 0.004*\"fact\"\n",
      "\n",
      "\n",
      "Topic: 3 Word: 0.011*\"power\" + 0.010*\"wire\" + 0.007*\"light\" + 0.007*\"grind\" + 0.006*\"current\" + 0.005*\"appear\" + 0.005*\"circuit\" + 0.005*\"cover\" + 0.005*\"water\" + 0.004*\"pictur\"\n",
      "\n",
      "\n",
      "Topic: 4 Word: 0.026*\"game\" + 0.019*\"team\" + 0.017*\"play\" + 0.012*\"player\" + 0.010*\"season\" + 0.008*\"hockey\" + 0.008*\"leagu\" + 0.007*\"score\" + 0.006*\"period\" + 0.006*\"goal\"\n",
      "\n",
      "\n",
      "Topic: 5 Word: 0.021*\"file\" + 0.017*\"entri\" + 0.015*\"program\" + 0.013*\"output\" + 0.012*\"line\" + 0.012*\"widget\" + 0.011*\"applic\" + 0.010*\"function\" + 0.010*\"valu\" + 0.010*\"section\"\n",
      "\n",
      "\n",
      "Topic: 6 Word: 0.016*\"christian\" + 0.011*\"believ\" + 0.010*\"exist\" + 0.009*\"book\" + 0.008*\"bibl\" + 0.008*\"church\" + 0.007*\"jesus\" + 0.007*\"mean\" + 0.006*\"question\" + 0.006*\"faith\"\n",
      "\n",
      "\n",
      "Topic: 7 Word: 0.023*\"drive\" + 0.017*\"card\" + 0.012*\"disk\" + 0.010*\"scsi\" + 0.010*\"control\" + 0.010*\"driver\" + 0.008*\"price\" + 0.008*\"hard\" + 0.007*\"monitor\" + 0.007*\"chip\"\n",
      "\n",
      "\n",
      "Topic: 8 Word: 0.006*\"bike\" + 0.005*\"tell\" + 0.005*\"get\" + 0.005*\"take\" + 0.004*\"differ\" + 0.004*\"caus\" + 0.004*\"drive\" + 0.004*\"help\" + 0.004*\"engin\" + 0.004*\"effect\"\n",
      "\n",
      "\n",
      "Topic: 9 Word: 0.016*\"armenian\" + 0.009*\"state\" + 0.007*\"kill\" + 0.007*\"turkish\" + 0.007*\"weapon\" + 0.005*\"govern\" + 0.005*\"firearm\" + 0.005*\"report\" + 0.005*\"attack\" + 0.004*\"children\"\n",
      "\n",
      "\n"
     ]
    }
   ],
   "source": [
    "'''\n",
    "For each topic, we will explore the words occuring in that topic and its relative weight\n",
    "'''\n",
    "for idx, topic in lda_model.print_topics(-1):\n",
    "    print(\"Topic: {} Word: {}\".format(idx, topic))\n",
    "    print(\"\\n\")"
   ]
  },
  {
   "cell_type": "markdown",
   "metadata": {},
   "source": [
    "### Classification of the topics ###\n",
    "\n",
    "Using the words in each topic and their corresponding weights, we have the following categories:\n",
    "\n",
    "* 0: Computer Software\n",
    "* 1: Space\n",
    "* 2: Government\n",
    "* 3: Energy\n",
    "* 4: Sports\n",
    "* 5: Applications\n",
    "* 6: Religion\n",
    "* 7: Computer Hardware\n",
    "* 8: Automotives\n",
    "* 9: Politics"
   ]
  },
  {
   "cell_type": "markdown",
   "metadata": {},
   "source": [
    "## Step 4.2 Running LDA using TF-IDF ##"
   ]
  },
  {
   "cell_type": "code",
   "execution_count": 39,
   "metadata": {
    "collapsed": true
   },
   "outputs": [],
   "source": [
    "'''\n",
    "Define lda model using tfidf corpus\n",
    "'''\n",
    "lda_model_tfidf = gensim.models.LdaMulticore(corpus_tfidf, \n",
    "                                             num_topics=10, \n",
    "                                             id2word = dictionary, \n",
    "                                             passes = 50, \n",
    "                                             workers=4)"
   ]
  },
  {
   "cell_type": "code",
   "execution_count": 40,
   "metadata": {},
   "outputs": [
    {
     "name": "stdout",
     "output_type": "stream",
     "text": [
      "Topic: 0 Word: 0.009*\"detector\" + 0.008*\"adam\" + 0.008*\"captain\" + 0.008*\"radar\" + 0.007*\"pen\" + 0.007*\"delet\" + 0.006*\"devil\" + 0.006*\"espn\" + 0.005*\"ranger\" + 0.005*\"lamp\"\n",
      "\n",
      "\n",
      "Topic: 1 Word: 0.009*\"window\" + 0.007*\"file\" + 0.006*\"drive\" + 0.006*\"card\" + 0.005*\"program\" + 0.004*\"mail\" + 0.004*\"softwar\" + 0.004*\"disk\" + 0.004*\"monitor\" + 0.004*\"help\"\n",
      "\n",
      "\n",
      "Topic: 2 Word: 0.007*\"christian\" + 0.005*\"jesus\" + 0.005*\"believ\" + 0.004*\"bibl\" + 0.004*\"mean\" + 0.004*\"church\" + 0.004*\"religion\" + 0.003*\"moral\" + 0.003*\"life\" + 0.003*\"exist\"\n",
      "\n",
      "\n",
      "Topic: 3 Word: 0.017*\"space\" + 0.012*\"nasa\" + 0.012*\"orbit\" + 0.010*\"launch\" + 0.009*\"moon\" + 0.007*\"satellit\" + 0.007*\"address\" + 0.006*\"earth\" + 0.006*\"shuttl\" + 0.005*\"test\"\n",
      "\n",
      "\n",
      "Topic: 4 Word: 0.012*\"armenian\" + 0.011*\"israel\" + 0.010*\"isra\" + 0.009*\"arab\" + 0.007*\"jew\" + 0.007*\"kill\" + 0.005*\"turkish\" + 0.005*\"turkey\" + 0.004*\"greek\" + 0.004*\"turk\"\n",
      "\n",
      "\n",
      "Topic: 5 Word: 0.013*\"gordon\" + 0.013*\"diseas\" + 0.012*\"surrend\" + 0.012*\"pitt\" + 0.012*\"skeptic\" + 0.011*\"shame\" + 0.011*\"patient\" + 0.011*\"cadr\" + 0.011*\"intellect\" + 0.011*\"chastiti\"\n",
      "\n",
      "\n",
      "Topic: 6 Word: 0.011*\"colormap\" + 0.009*\"temp\" + 0.007*\"vice\" + 0.007*\"cell\" + 0.007*\"bronx\" + 0.006*\"manhattan\" + 0.006*\"queen\" + 0.006*\"beauchain\" + 0.006*\"bobb\" + 0.006*\"sink\"\n",
      "\n",
      "\n",
      "Topic: 7 Word: 0.003*\"govern\" + 0.003*\"encrypt\" + 0.002*\"state\" + 0.002*\"player\" + 0.002*\"better\" + 0.002*\"team\" + 0.002*\"number\" + 0.002*\"play\" + 0.002*\"game\" + 0.002*\"chip\"\n",
      "\n",
      "\n",
      "Topic: 8 Word: 0.023*\"bike\" + 0.010*\"motorcycl\" + 0.009*\"ride\" + 0.007*\"car\" + 0.007*\"rid\" + 0.007*\"rear\" + 0.007*\"mile\" + 0.007*\"honda\" + 0.006*\"tire\" + 0.006*\"wheel\"\n",
      "\n",
      "\n",
      "Topic: 9 Word: 0.027*\"game\" + 0.012*\"team\" + 0.011*\"pitch\" + 0.011*\"basebal\" + 0.009*\"season\" + 0.009*\"boston\" + 0.009*\"brave\" + 0.008*\"score\" + 0.008*\"detroit\" + 0.008*\"chicago\"\n",
      "\n",
      "\n"
     ]
    }
   ],
   "source": [
    "'''\n",
    "For each topic, we will explore the words occuring in that topic and its relative weight\n",
    "'''\n",
    "for idx, topic in lda_model_tfidf.print_topics(-1):\n",
    "    print(\"Topic: {} Word: {}\".format(idx, topic))\n",
    "    print(\"\\n\")"
   ]
  },
  {
   "cell_type": "markdown",
   "metadata": {},
   "source": [
    "### Classification of the topics ###\n",
    "\n",
    "As we can see, when using tf-idf, heavier weights are given to words that are not as frequent which results in nouns being factored in. That makes it harder to figure out the categories as nouns can be hard to categorize. This goes to show that the models we apply depend on the type of corpus of text we are dealing with. \n",
    "\n",
    "Using the words in each topic and their corresponding weights, we have the following categories:\n",
    "\n",
    "* 0: Unclear\n",
    "* 1: Computer Software\n",
    "* 2: Space\n",
    "* 3: Religion\n",
    "* 4: Middle East\n",
    "* 5: Unclear\n",
    "* 6: Unclear\n",
    "* 7: Politics\n",
    "* 8: Automotives\n",
    "* 9: Sports"
   ]
  },
  {
   "cell_type": "markdown",
   "metadata": {},
   "source": [
    "## Step 5.1: Performance evaluation by classifying sample document using LDA Bag of Words model##\n",
    "\n",
    "We will check to see where our test document would be classified. "
   ]
  },
  {
   "cell_type": "code",
   "execution_count": 32,
   "metadata": {},
   "outputs": [
    {
     "name": "stdout",
     "output_type": "stream",
     "text": [
      "\n",
      "\n",
      "Fret not, you made it.\n",
      "\n",
      "\n",
      "Not while we still have our guns.  <evil grin>  \n",
      "\n",
      "Hey, gang, it's not about duck hunting, or about dark alleys,\n",
      "it's about black-clad, helmeted and booted troops storming\n",
      "houses and violating civil rights under color of law. \n",
      "\n",
      "Are YOU ready to defend YOUR Constitution?\n"
     ]
    }
   ],
   "source": [
    "'''\n",
    "Text of sample document 4310\n",
    "'''\n",
    "print(documents[document_num])"
   ]
  },
  {
   "cell_type": "code",
   "execution_count": 33,
   "metadata": {},
   "outputs": [
    {
     "name": "stdout",
     "output_type": "stream",
     "text": [
      "\n",
      "Score: 0.6458886951521011\t \n",
      "Topic: 0.016*\"armenian\" + 0.009*\"state\" + 0.007*\"kill\" + 0.007*\"turkish\" + 0.007*\"weapon\" + 0.005*\"govern\" + 0.005*\"firearm\" + 0.005*\"report\" + 0.005*\"attack\" + 0.004*\"children\"\n",
      "\n",
      "Score: 0.1464546793671742\t \n",
      "Topic: 0.011*\"power\" + 0.010*\"wire\" + 0.007*\"light\" + 0.007*\"grind\" + 0.006*\"current\" + 0.005*\"appear\" + 0.005*\"circuit\" + 0.005*\"cover\" + 0.005*\"water\" + 0.004*\"pictur\"\n",
      "\n",
      "Score: 0.09064204432828646\t \n",
      "Topic: 0.006*\"state\" + 0.006*\"believ\" + 0.006*\"mean\" + 0.006*\"tell\" + 0.005*\"israel\" + 0.005*\"question\" + 0.005*\"live\" + 0.005*\"govern\" + 0.005*\"case\" + 0.004*\"fact\"\n",
      "\n",
      "Score: 0.08843793487079113\t \n",
      "Topic: 0.023*\"drive\" + 0.017*\"card\" + 0.012*\"disk\" + 0.010*\"scsi\" + 0.010*\"control\" + 0.010*\"driver\" + 0.008*\"price\" + 0.008*\"hard\" + 0.007*\"monitor\" + 0.007*\"chip\"\n"
     ]
    }
   ],
   "source": [
    "'''\n",
    "Check which topic our test document belongs to using the LDA Bag of Words model.\n",
    "'''\n",
    "\n",
    "# Our test document is document number 4310\n",
    "for index, score in sorted(lda_model[bow_corpus[document_num]], key=lambda tup: -1*tup[1]):\n",
    "    print(\"\\nScore: {}\\t \\nTopic: {}\".format(score, lda_model.print_topic(index, 10)))"
   ]
  },
  {
   "cell_type": "markdown",
   "metadata": {},
   "source": [
    "### It has the highest probability (`64.5%`) to be  part of the topic that we assigned as Politics, which is the accurate classification. ###"
   ]
  },
  {
   "cell_type": "markdown",
   "metadata": {},
   "source": [
    "## Step 5.2: Performance evaluation by classifying sample document using LDA TF-IDF model##"
   ]
  },
  {
   "cell_type": "code",
   "execution_count": 41,
   "metadata": {},
   "outputs": [
    {
     "name": "stdout",
     "output_type": "stream",
     "text": [
      "\n",
      "Score: 0.46183573112950044\t \n",
      "Topic: 0.012*\"armenian\" + 0.011*\"israel\" + 0.010*\"isra\" + 0.009*\"arab\" + 0.007*\"jew\" + 0.007*\"kill\" + 0.005*\"turkish\" + 0.005*\"turkey\" + 0.004*\"greek\" + 0.004*\"turk\"\n",
      "\n",
      "Score: 0.3419984058519753\t \n",
      "Topic: 0.003*\"govern\" + 0.003*\"encrypt\" + 0.002*\"state\" + 0.002*\"player\" + 0.002*\"better\" + 0.002*\"team\" + 0.002*\"number\" + 0.002*\"play\" + 0.002*\"game\" + 0.002*\"chip\"\n",
      "\n",
      "Score: 0.08992600402663535\t \n",
      "Topic: 0.009*\"detector\" + 0.008*\"adam\" + 0.008*\"captain\" + 0.008*\"radar\" + 0.007*\"pen\" + 0.007*\"delet\" + 0.006*\"devil\" + 0.006*\"espn\" + 0.005*\"ranger\" + 0.005*\"lamp\"\n",
      "\n",
      "Score: 0.07766221966445937\t \n",
      "Topic: 0.023*\"bike\" + 0.010*\"motorcycl\" + 0.009*\"ride\" + 0.007*\"car\" + 0.007*\"rid\" + 0.007*\"rear\" + 0.007*\"mile\" + 0.007*\"honda\" + 0.006*\"tire\" + 0.006*\"wheel\"\n"
     ]
    }
   ],
   "source": [
    "'''\n",
    "Check which topic our test document belongs to using the LDA TF-IDF model.\n",
    "'''\n",
    "\n",
    "# Our test document is document number 4310\n",
    "for index, score in sorted(lda_model_tfidf[bow_corpus[document_num]], key=lambda tup: -1*tup[1]):\n",
    "    print(\"\\nScore: {}\\t \\nTopic: {}\".format(score, lda_model_tfidf.print_topic(index, 10)))"
   ]
  },
  {
   "cell_type": "markdown",
   "metadata": {},
   "source": [
    "### It has the highest probability (`34.1%`) to be  part of the topic that we assigned as Politics. ###"
   ]
  },
  {
   "cell_type": "markdown",
   "metadata": {},
   "source": [
    "## Step 5.2: Performance evaluation of model as a whole ##\n",
    "\n",
    "We use the perplexity(logarithm) for our evaluation. The perplexity is connected to the log likelihood that the model is able to **generate the documents, given the distribution of topics for those documents**. The lower the perplexity, the better the model as it signifies that the model can regenerate the text quite well."
   ]
  },
  {
   "cell_type": "code",
   "execution_count": 35,
   "metadata": {},
   "outputs": [
    {
     "name": "stdout",
     "output_type": "stream",
     "text": [
      "Log perplexity of the model is -7.37815975223\n"
     ]
    }
   ],
   "source": [
    "'''\n",
    "Calcualte log perplexity of the model to check if the model can generate the text.\n",
    "'''\n",
    "print(\"Log perplexity of the model is\", lda_model.log_perplexity(bow_corpus))"
   ]
  },
  {
   "cell_type": "markdown",
   "metadata": {},
   "source": [
    "## Step 6: Testing model on unseen document ##"
   ]
  },
  {
   "cell_type": "code",
   "execution_count": 38,
   "metadata": {},
   "outputs": [
    {
     "name": "stdout",
     "output_type": "stream",
     "text": [
      "Score: 0.6169210224607728\t Topic: 0.026*\"game\" + 0.019*\"team\" + 0.017*\"play\" + 0.012*\"player\" + 0.010*\"season\"\n",
      "Score: 0.22304756274928622\t Topic: 0.012*\"space\" + 0.009*\"encrypt\" + 0.007*\"secur\" + 0.007*\"program\" + 0.006*\"inform\"\n",
      "Score: 0.020006336204154672\t Topic: 0.022*\"file\" + 0.020*\"window\" + 0.013*\"imag\" + 0.012*\"program\" + 0.011*\"mail\"\n",
      "Score: 0.02000512555690829\t Topic: 0.023*\"drive\" + 0.017*\"card\" + 0.012*\"disk\" + 0.010*\"scsi\" + 0.010*\"control\"\n",
      "Score: 0.020004612382756047\t Topic: 0.006*\"bike\" + 0.005*\"tell\" + 0.005*\"get\" + 0.005*\"take\" + 0.004*\"differ\"\n",
      "Score: 0.020004361925737575\t Topic: 0.016*\"armenian\" + 0.009*\"state\" + 0.007*\"kill\" + 0.007*\"turkish\" + 0.007*\"weapon\"\n",
      "Score: 0.020003530223374595\t Topic: 0.016*\"christian\" + 0.011*\"believ\" + 0.010*\"exist\" + 0.009*\"book\" + 0.008*\"bibl\"\n",
      "Score: 0.020003387682446236\t Topic: 0.011*\"power\" + 0.010*\"wire\" + 0.007*\"light\" + 0.007*\"grind\" + 0.006*\"current\"\n",
      "Score: 0.020003036486462827\t Topic: 0.006*\"state\" + 0.006*\"believ\" + 0.006*\"mean\" + 0.006*\"tell\" + 0.005*\"israel\"\n",
      "Score: 0.020001024328100764\t Topic: 0.021*\"file\" + 0.017*\"entri\" + 0.015*\"program\" + 0.013*\"output\" + 0.012*\"line\"\n"
     ]
    }
   ],
   "source": [
    "unseen_document = \"My favorite sports activities are running and swimming.\"\n",
    "\n",
    "# Data preprocessing step for the unseen document\n",
    "bow_vector = dictionary.doc2bow(preprocess(unseen_document))\n",
    "\n",
    "for index, score in sorted(lda_model[bow_vector], key=lambda tup: -1*tup[1]):\n",
    "    print(\"Score: {}\\t Topic: {}\".format(score, lda_model.print_topic(index, 5)))"
   ]
  },
  {
   "cell_type": "markdown",
   "metadata": {},
   "source": [
    "The model correctly classifies the unseen document with 61.6% probability to the Sports category."
   ]
  }
 ],
 "metadata": {
  "kernelspec": {
   "display_name": "Python 3",
   "language": "python",
   "name": "python3"
  },
  "language_info": {
   "codemirror_mode": {
    "name": "ipython",
    "version": 3
   },
   "file_extension": ".py",
   "mimetype": "text/x-python",
   "name": "python",
   "nbconvert_exporter": "python",
   "pygments_lexer": "ipython3",
   "version": "3.6.0"
  }
 },
 "nbformat": 4,
 "nbformat_minor": 1
}
